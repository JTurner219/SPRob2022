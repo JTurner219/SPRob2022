{
 "cells": [
  {
   "cell_type": "markdown",
   "metadata": {},
   "source": [
    "University of Michigan - ROB 101 Computational Linear Algebra"
   ]
  },
  {
   "cell_type": "markdown",
   "metadata": {},
   "source": [
    "# Homework 3: Vector and Matrix Multiplication\n",
    "The Result of a Matrix Multiplication:\n",
    "$$[n\\times k~~\\text{matrix}] \\cdot [k \\times m~~\\text{matrix}] = [n \\times m~~\\text{matrix}].$$\n",
    "\n",
    "In other words:  In order for the matrix multiplication A times B to be possible, the number of columns in A must equal the number of rows in B."
   ]
  },
  {
   "cell_type": "markdown",
   "metadata": {},
   "source": [
    "\\begin{equation}\n",
    "   A \\cdot B:= \n",
    "\\left[\\begin{array}{cccc}  a_1^{\\rm row} \\cdot b_1^{\\rm col} & a_1^{\\rm row} \\cdot b_2^{\\rm col} & \\cdots & a_1^{\\rm row} \\cdot b_m^{\\rm col} \\\\\n",
    "a_2^{\\rm row} \\cdot b_1^{\\rm col} & a_2^{\\rm row} \\cdot b_2^{\\rm col} & \\cdots & a_2^{\\rm row} \\cdot b_m^{\\rm col} \\\\\n",
    "\\vdots & \\vdots & \\ddots & \\vdots \\\\\n",
    "a_n^{\\rm row} \\cdot b_1^{\\rm col} & a_n^{\\rm row} \\cdot b_2^{\\rm col} & \\cdots & a_n^{\\rm row} \\cdot b_m^{\\rm col}\n",
    "\\end{array}\\right].\n",
    "\\end{equation}\n",
    "\n",
    "### Problem 1.  Rows x Columns\n",
    "Partition the following matrices, then compute the multiplication product using the formula above.\n",
    "\n",
    "#### a) $A*B$ where $A = \\begin{bmatrix} 3&7&4\\\\1&4&3\\end{bmatrix}$ and $B = \\begin{bmatrix}8&3&9&1\\\\2&4&0&8\\\\0&7&1&2\\end{bmatrix}$"
   ]
  },
  {
   "cell_type": "code",
   "execution_count": 17,
   "metadata": {
    "tags": [
     "problem_1a"
    ]
   },
   "outputs": [
    {
     "data": {
      "text/plain": [
       "2×4 Matrix{Int64}:\n",
       " 38  65  31  67\n",
       " 16  40  12  39"
      ]
     },
     "execution_count": 17,
     "metadata": {},
     "output_type": "execute_result"
    }
   ],
   "source": [
    "#declare your partitions first\n",
    "#leave the values as integers or the check below will return a false answer, even if you are right.\n",
    "a1row = [3 7 4;]\n",
    "a2row = [1 4 3;] \n",
    "b1col = [8; 2; 0;]\n",
    "b2col = [3; 4; 7;]\n",
    "b3col = [9; 0; 1;]\n",
    "b4col = [1; 8; 2;]\n",
    "\n",
    "#implement code below that computes the product using your partitioned matrices\n",
    "#your answer should be a 2 x 4 matrix. \n",
    "answer1a = [a1row*b1col a1row*b2col a1row*b3col a1row*b4col; a2row *b1col a2row*b2col a2row*b3col a2row*b4col;]"
   ]
  },
  {
   "cell_type": "code",
   "execution_count": 14,
   "metadata": {
    "tags": [
     "problem_1a_answer",
     "hide"
    ]
   },
   "outputs": [],
   "source": [
    "A = [3 7 4; 1 4 3]\n",
    "B = [8 3 9 1; 2 4 0 8; 0 7 1 2]\n",
    "check1a = A*B\n",
    "@assert check1a == answer1a"
   ]
  },
  {
   "cell_type": "markdown",
   "metadata": {},
   "source": [
    "#### b) $C*D$ where $C = \\begin{bmatrix} 7&6&8&7&4\\\\1&8&2&4&3\\\\6&9&8&1&4\\end{bmatrix}$ and $D = \\begin{bmatrix}8&3\\\\0&4\\\\7&2\\\\3&8\\\\9&2\\end{bmatrix}$"
   ]
  },
  {
   "cell_type": "code",
   "execution_count": 15,
   "metadata": {
    "tags": [
     "problem_1b"
    ]
   },
   "outputs": [
    {
     "data": {
      "text/plain": [
       "3×2 Matrix{Int64}:\n",
       " 169  125\n",
       "  61   77\n",
       " 143   86"
      ]
     },
     "execution_count": 15,
     "metadata": {},
     "output_type": "execute_result"
    }
   ],
   "source": [
    "#Partition C \n",
    "Crow1 = [7 6 8 7 4]\n",
    "Crow2 = [1 8 2 4 3]\n",
    "Crow3 = [6 9 8 1 4]\n",
    "\n",
    "#Partition D\n",
    "Dcol1 = [8 3;7]\n",
    "Dcol2 = [3;4;2;8;2]\n",
    "\n",
    "\n",
    "\n",
    "#Compute product\n",
    "answer1b = [Crow1*Dcol1 Crow1*Dcol2; Crow2*Dcol1 Crow2*Dcol2; Crow3 *Dcol1 Crow3*Dcol2]"
   ]
  },
  {
   "cell_type": "code",
   "execution_count": null,
   "metadata": {
    "tags": [
     "problem_1b_answer",
     "hide"
    ]
   },
   "outputs": [],
   "source": [
    "C = [7 6 8 7 4; 1 8 2 4 3; 6 9 8 1 4]\n",
    "D = [8 3; 0 4; 7 2; 3 8; 9 2]\n",
    "check1b = C*D\n",
    "@assert check1b == answer1b"
   ]
  },
  {
   "cell_type": "markdown",
   "metadata": {},
   "source": [
    "$$A\\cdot B = \\sum_{i=1}^{k} a_i^{\\rm col} \\cdot b_i^{\\rm row},  $$\n",
    "### Problem 2.  Summing over Columns and Rows\n",
    "Partition the following matrices, then compute the product of matrix multiplication by summing over rows and columns.\n",
    "\n",
    "#### a.  $F*G$ where $F = \\begin{bmatrix}5&1&3\\\\8&2&0\\\\1&7&6\\\\8&2&1\\end{bmatrix}$ and $G = \\begin{bmatrix}2&4\\\\8&1\\\\7&0\\end{bmatrix}$"
   ]
  },
  {
   "cell_type": "code",
   "execution_count": 19,
   "metadata": {
    "tags": [
     "problem_2a"
    ]
   },
   "outputs": [
    {
     "data": {
      "text/plain": [
       "4×2 Matrix{Int64}:\n",
       "  39  21\n",
       "  32  34\n",
       " 100  11\n",
       "  39  34"
      ]
     },
     "execution_count": 19,
     "metadata": {},
     "output_type": "execute_result"
    }
   ],
   "source": [
    "#partition F into columns\n",
    "Fcol1 = [5; 8; 1; 8;]\n",
    "Fcol2 = [1; 2; 7; 2;]\n",
    "Fcol3 = [3; 0; 6; 1;]\n",
    "\n",
    "#partition G into rows\n",
    "Grow1 = [2 4]\n",
    "Grow2 = [8 1]\n",
    "Grow3 = [7 0]\n",
    "#compute the product by summing the products of the columns times rows\n",
    "answer2a =  Fcol1*Grow1 + Fcol2*Grow2 + Fcol3*Grow3"
   ]
  },
  {
   "cell_type": "code",
   "execution_count": 22,
   "metadata": {
    "scrolled": true,
    "tags": [
     "problem_2a_answer",
     "hide"
    ]
   },
   "outputs": [],
   "source": [
    "F = [5 1 3; 8 2 0; 1 7 6; 8 2 1]\n",
    "G = [2 4; 8 1; 7 0]\n",
    "check2a = F*G\n",
    "@assert check2a == answer2a"
   ]
  },
  {
   "cell_type": "markdown",
   "metadata": {},
   "source": [
    "#### b.  Using the same matrices, F and G, construct a FOR loop to compute the matrix multiplication $F*G$ like how we did above.\n",
    "Remember this formula, and how it works:$$A\\cdot B = \\sum_{i=1}^{k} a_i^{\\rm col} \\cdot b_i^{\\rm row},  $$\n",
    "\n",
    "Hint: How many times do we have to multiply a column times a row?  What happens to all of the individual column times row matrices at the end?  Keep track of the sum in the for loop so that you don't have to manually sum at the end."
   ]
  },
  {
   "cell_type": "code",
   "execution_count": 28,
   "metadata": {
    "tags": [
     "problem_2b"
    ]
   },
   "outputs": [
    {
     "data": {
      "text/plain": [
       "4×2 Matrix{Float64}:\n",
       "  39.0  21.0\n",
       "  32.0  34.0\n",
       " 100.0  11.0\n",
       "  39.0  34.0"
      ]
     },
     "execution_count": 28,
     "metadata": {},
     "output_type": "execute_result"
    }
   ],
   "source": [
    "#Declare a matrix of zeros the size of the multiplication product\n",
    "currentSum = zeros(4,2)\n",
    "#fill in the number of columns of F (or Rows of G)\n",
    "n = 3\n",
    "\n",
    "#the for loop\n",
    "for i in 1:n\n",
    "    fCol = F[:, i:i]     #use indexing, and the iterator variable(i) to pick out the column and row to be multiplied\n",
    "    gRow = G[i:i, :]\n",
    "    multiplyCxR = fCol*gRow\n",
    "    currentSum = currentSum + multiplyCxR #update the current sum by adding this round of column by row multiplication\n",
    "end\n",
    "\n",
    "answer2b = currentSum"
   ]
  },
  {
   "cell_type": "code",
   "execution_count": null,
   "metadata": {
    "tags": [
     "problem_2b_answer",
     "hide"
    ]
   },
   "outputs": [],
   "source": [
    "@assert answer2b == check2a"
   ]
  },
  {
   "cell_type": "markdown",
   "metadata": {},
   "source": [
    "### The Trick:  Matrix Multiplication is Already Built into Julia\n",
    "#### You can simply use the * operator to multiply compatible matrices\n",
    "What?  I did all that for nothing!  No.  By completing the algorithms above, you have followed along the steps that Julia is taking internally. You now understand the inner workings of the computer!\n",
    "\n",
    "Note: You still need to implement problems 1 and 2 as directed, otherwise you will receive no points on the assignment.\n",
    "\n",
    "### Problem 3.  Using the * operator\n",
    "#### Compute $X*Y$ where $X = \\begin{bmatrix}8&5&2&1\\\\6&1&3&2\\end{bmatrix}$ and $Y = \\begin{bmatrix}4&4&3\\\\7&6&5\\\\0&1&3\\\\9&8&2\\end{bmatrix}$"
   ]
  },
  {
   "cell_type": "code",
   "execution_count": 29,
   "metadata": {
    "tags": [
     "problem_3"
    ]
   },
   "outputs": [
    {
     "data": {
      "text/plain": [
       "2×3 Matrix{Int64}:\n",
       " 76  72  57\n",
       " 49  49  36"
      ]
     },
     "execution_count": 29,
     "metadata": {},
     "output_type": "execute_result"
    }
   ],
   "source": [
    "#your code here\n",
    "X = [8 5 2 1; 6 1 3 2]\n",
    "Y = [4 4 3; 7 6 5; 0 1 3; 9 8 2]\n",
    "\n",
    "answer3 =  X * Y"
   ]
  },
  {
   "cell_type": "code",
   "execution_count": 30,
   "metadata": {
    "tags": [
     "problem_3_answer",
     "hide"
    ]
   },
   "outputs": [
    {
     "data": {
      "text/plain": [
       "2×3 Matrix{Int64}:\n",
       " 76  72  57\n",
       " 49  49  36"
      ]
     },
     "execution_count": 30,
     "metadata": {},
     "output_type": "execute_result"
    }
   ],
   "source": [
    "X = [8 5 2 1; 6 1 3 2]\n",
    "Y = [4 4 3; 7 6 5; 0 1 3; 9 8 2]\n",
    "check3 = X * Y"
   ]
  },
  {
   "cell_type": "markdown",
   "metadata": {},
   "source": [
    "<img src=\"https://i.postimg.cc/Y0HQcjMM/lu-final.jpg\" width=\"700\">\n",
    "\n",
    "### Problem 4. LU Factorization Step by Step\n",
    "Follow Algorithm 1 (above), taken from chapter 5 of the course booklet, step by step in Julia, to perform an LU Factorization on Matrix M.\n",
    "$$ M = \\begin{bmatrix}6&5&4\\\\12&19&14\\\\24&35&32\\end{bmatrix}$$\n",
    "We are going to do it step by step, just as if you were writing it out as a HW Drill Problem solution. Then, in the next problem, we'll program it up as an honest to goodness algorithm!"
   ]
  },
  {
   "cell_type": "code",
   "execution_count": 36,
   "metadata": {},
   "outputs": [
    {
     "ename": "LoadError",
     "evalue": "MethodError: no method matching *(::Int64, ::Tuple{UndefInitializer, Int64, Int64})\n\u001b[0mClosest candidates are:\n\u001b[0m  *(::Any, ::Any, \u001b[91m::Any\u001b[39m, \u001b[91m::Any...\u001b[39m) at C:\\Users\\Dusks\\AppData\\Local\\Programs\\Julia-1.7.1\\share\\julia\\base\\operators.jl:655\n\u001b[0m  *(::T, \u001b[91m::T\u001b[39m) where T<:Union{Int128, Int16, Int32, Int64, Int8, UInt128, UInt16, UInt32, UInt64, UInt8} at C:\\Users\\Dusks\\AppData\\Local\\Programs\\Julia-1.7.1\\share\\julia\\base\\int.jl:88\n\u001b[0m  *(::Union{Real, Complex}, \u001b[91m::Union{LinearAlgebra.Adjoint{var\"#s859\", var\"#s8591\"}, LinearAlgebra.Transpose{var\"#s859\", var\"#s8591\"}} where {var\"#s859\"<:Union{Real, Complex}, var\"#s8591\"<:(AbstractVector)}\u001b[39m, \u001b[91m::AbstractMatrix{<:Union{Real, Complex}}\u001b[39m, \u001b[91m::AbstractMatrix{<:Union{Real, Complex}}\u001b[39m) at C:\\Users\\Dusks\\AppData\\Local\\Programs\\Julia-1.7.1\\share\\julia\\stdlib\\v1.7\\LinearAlgebra\\src\\matmul.jl:1172\n\u001b[0m  ...",
     "output_type": "error",
     "traceback": [
      "MethodError: no method matching *(::Int64, ::Tuple{UndefInitializer, Int64, Int64})\n\u001b[0mClosest candidates are:\n\u001b[0m  *(::Any, ::Any, \u001b[91m::Any\u001b[39m, \u001b[91m::Any...\u001b[39m) at C:\\Users\\Dusks\\AppData\\Local\\Programs\\Julia-1.7.1\\share\\julia\\base\\operators.jl:655\n\u001b[0m  *(::T, \u001b[91m::T\u001b[39m) where T<:Union{Int128, Int16, Int32, Int64, Int8, UInt128, UInt16, UInt32, UInt64, UInt8} at C:\\Users\\Dusks\\AppData\\Local\\Programs\\Julia-1.7.1\\share\\julia\\base\\int.jl:88\n\u001b[0m  *(::Union{Real, Complex}, \u001b[91m::Union{LinearAlgebra.Adjoint{var\"#s859\", var\"#s8591\"}, LinearAlgebra.Transpose{var\"#s859\", var\"#s8591\"}} where {var\"#s859\"<:Union{Real, Complex}, var\"#s8591\"<:(AbstractVector)}\u001b[39m, \u001b[91m::AbstractMatrix{<:Union{Real, Complex}}\u001b[39m, \u001b[91m::AbstractMatrix{<:Union{Real, Complex}}\u001b[39m) at C:\\Users\\Dusks\\AppData\\Local\\Programs\\Julia-1.7.1\\share\\julia\\stdlib\\v1.7\\LinearAlgebra\\src\\matmul.jl:1172\n\u001b[0m  ...",
      "",
      "Stacktrace:",
      " [1] top-level scope",
      "   @ In[36]:4",
      " [2] eval",
      "   @ .\\boot.jl:373 [inlined]",
      " [3] include_string(mapexpr::typeof(REPL.softscope), mod::Module, code::String, filename::String)",
      "   @ Base .\\loading.jl:1196"
     ]
    }
   ],
   "source": [
    "# Do all of your work in this cell\n",
    "# here, we will NOT test that the pivot is non-zero and just hope for the best!\n",
    "M = [6 5 4; 12 19 14; 24 35 32]\n",
    "temp=copy(M)\n",
    "n,m = size(M)\n",
    "k=1\n",
    "C=temp[:,k]\n",
    "pivot=C[k]\n",
    "C=C/pivot  # Let's hope we do not divide by zero! Yikes!!! \n",
    "R=temp[k,:]' # recall, we have to do the transpose in Julia to get a row vector or we use R=temp[k:k,:]\n",
    "temp = temp-C*R\n",
    "@show temp\n",
    "# Run this code now and make sure that temp has a zero first column and a zero first row\n",
    "\n",
    "# Now its your turn\n",
    "temp=copy(M)\n",
    "n,m = size(M)\n",
    "k=2 \n",
    "C=temp[:,k]\n",
    "pivot=C[k]\n",
    "C=C/pivot  \n",
    "R=temp[k,:]'\n",
    "temp = temp-C*R\n",
    "#you will need to repeat this process n times, where n is the number of rows/columns in M\n",
    "Temp = copy(M)\n",
    "L= ArrayFloat64,2(undef,n,0)\n",
    "U= ArrayFloat64,2(undef,0,n)\n",
    "Flag = 1;\n",
    "\n",
    "\n",
    "n=3\n",
    "for k = 1:n do\n",
    "C=temp[:,k]\n",
    "pivot=C[k]\n",
    "C=C/pivot \n",
    "R=temp[k:k,:]'\n",
    "        if !isapprox(pivot, 0, atol = 1E-8) then\n",
    "          C= C/pivot  \n",
    "          temp = temp-C*R  \n",
    "            L= [L C]\n",
    "            U= [U; R]\n",
    "        else\n",
    "            Flag = 0;\n",
    "            println(\"Matrix requires row permutations\")\n",
    "            println(\"Step where algorithm failed is k=$k\")\n",
    "            return \n",
    "        end\n",
    "        \n",
    "        end\n",
    "    return L, U\n",
    "#Now return L and U\n",
    "#L = \n",
    "#U ="
   ]
  },
  {
   "cell_type": "markdown",
   "metadata": {},
   "source": [
    "<img src=\"https://i.postimg.cc/Y0HQcjMM/lu-final.jpg\" width=\"700\">\n",
    "\n",
    "### Problem 5. LU Factorization in Code\n",
    "Implement Algorithm 1(above), taken from chapter 5 of the course booklet, in code to perform an LU Factorization on Matrix M.\n",
    "$$ M = \\begin{bmatrix}6&5&4\\\\12&19&14\\\\24&35&32\\end{bmatrix}$$\n",
    "\n",
    "Remark: When you first implement the algorithm using a for loop, don't worry about checking that the pivot \n",
    "is non-zero. Add that at the very end. \n",
    "\n",
    "Next week, we'll show you how to turn your script into a real function so that you can call\n",
    " L, U = mylu(M)"
   ]
  },
  {
   "cell_type": "code",
   "execution_count": 40,
   "metadata": {
    "scrolled": true,
    "tags": [
     "problem_5"
    ]
   },
   "outputs": [
    {
     "ename": "LoadError",
     "evalue": "MethodError: no method matching ~(::typeof(\\))\n\u001b[0mClosest candidates are:\n\u001b[0m  ~(\u001b[91m::Union{Int128, Int16, Int32, Int64, Int8, UInt128, UInt16, UInt32, UInt64, UInt8}\u001b[39m) at C:\\Users\\Dusks\\AppData\\Local\\Programs\\Julia-1.7.1\\share\\julia\\base\\int.jl:310\n\u001b[0m  ~(\u001b[91m::Bool\u001b[39m) at C:\\Users\\Dusks\\AppData\\Local\\Programs\\Julia-1.7.1\\share\\julia\\base\\bool.jl:37\n\u001b[0m  ~(\u001b[91m::Missing\u001b[39m) at C:\\Users\\Dusks\\AppData\\Local\\Programs\\Julia-1.7.1\\share\\julia\\base\\missing.jl:101\n\u001b[0m  ...",
     "output_type": "error",
     "traceback": [
      "MethodError: no method matching ~(::typeof(\\))\n\u001b[0mClosest candidates are:\n\u001b[0m  ~(\u001b[91m::Union{Int128, Int16, Int32, Int64, Int8, UInt128, UInt16, UInt32, UInt64, UInt8}\u001b[39m) at C:\\Users\\Dusks\\AppData\\Local\\Programs\\Julia-1.7.1\\share\\julia\\base\\int.jl:310\n\u001b[0m  ~(\u001b[91m::Bool\u001b[39m) at C:\\Users\\Dusks\\AppData\\Local\\Programs\\Julia-1.7.1\\share\\julia\\base\\bool.jl:37\n\u001b[0m  ~(\u001b[91m::Missing\u001b[39m) at C:\\Users\\Dusks\\AppData\\Local\\Programs\\Julia-1.7.1\\share\\julia\\base\\missing.jl:101\n\u001b[0m  ...",
      "",
      "Stacktrace:",
      " [1] top-level scope",
      "   @ In[40]:4",
      " [2] eval",
      "   @ .\\boot.jl:373 [inlined]",
      " [3] include_string(mapexpr::typeof(REPL.softscope), mod::Module, code::String, filename::String)",
      "   @ Base .\\loading.jl:1196"
     ]
    }
   ],
   "source": [
    "#initialization\n",
    "n,m = size(M)\n",
    "temp = copy(M)\n",
    "L = Array{Float64,2}(undef, n, 0)  ~~~\\# L=[] Empty matrix\\\\\n",
    "U = Array{Float64,2}(undef, 0, n)  ~~~\\# R=[] Empty matrix\\\\\n",
    "flag = 1\n",
    "#end intialization\n",
    "\n",
    "#Your turn! Translate the rest of the algorithm to code here(use a for loop and an if statement)\n",
    "n=3\n",
    "for k = 1:n do\n",
    "C=temp[:,k]\n",
    "pivot=C[k]\n",
    "C=C/pivot \n",
    "R=temp[k:k,:]';\n",
    "        if !isapprox(pivot, 0, atol = 1E-8)\n",
    "          C= C/pivot  \n",
    "          temp = temp-C*R  \n",
    "            L= [L C];\n",
    "            U= [U; R]\n",
    "        else\n",
    "            Flag = 0;\n",
    "            println(\"Matrix requires row permutations\")\n",
    "            println(\"Step where algorithm failed is k=$k\")\n",
    "            return \n",
    "        end\n",
    "        \n",
    "        end\n",
    "    return L, U\n",
    "\n",
    "\n",
    "\n"
   ]
  },
  {
   "cell_type": "code",
   "execution_count": null,
   "metadata": {
    "tags": [
     "problem_5_answer",
     "hide"
    ]
   },
   "outputs": [],
   "source": [
    "M = [6 5 4; 12 19 14; 24 35 32]\n",
    "using LinearAlgebra\n",
    "(low, upp) = lu(M)\n",
    "@assert low ==L\n",
    "@assert upp ==U"
   ]
  },
  {
   "cell_type": "markdown",
   "metadata": {},
   "source": [
    "#### Congratulations! You just translated an algorithm to code.  This is a key skill for a computer or data scientist.\n",
    "\n",
    "The good news:  Julia has a built in function that will do the LU factorization for you.  Actually, there are two functions. If we use the LinearAlgebra package, we can find the L and U factors by simply typing:\n",
    "<br> <br>   (L, U) = lu(M, Val(false))\n",
    "\n",
    "<br> You can also use factorize(M), but it is not reccomended because this multiple dispatch function may return a different type of factorization than an LU. \n",
    "\n",
    "Note:  You still need to complete the algorithm above to get points.  It is important that you understand how the algorithm can be done both by hand and by Julia.  Computers exist to make your life easier, but in order for them to do that, you have to understand how they work, and how to use them."
   ]
  },
  {
   "cell_type": "code",
   "execution_count": null,
   "metadata": {},
   "outputs": [],
   "source": [
    "#LU decomposition without permutations ~Val(false)~\n",
    "(lower, upper) = lu(M, Val(false))"
   ]
  },
  {
   "cell_type": "code",
   "execution_count": null,
   "metadata": {},
   "outputs": [],
   "source": [
    "#Check that the factorization is correct\n",
    "lower*upper == M"
   ]
  },
  {
   "cell_type": "markdown",
   "metadata": {},
   "source": [
    "Note: If you leave off the Val(false) argument, lu() will use permutations, and then $L * U \\ne M$\n",
    "\n",
    "\n",
    "For a more in depth explanation about julia's factorization, visit:\n",
    "https://julia.quantecon.org/tools_and_techniques/numerical_linear_algebra.html"
   ]
  },
  {
   "cell_type": "markdown",
   "metadata": {},
   "source": [
    "### Problem 6.  Copy your algorithm from problem 5 into the cell below and run your LU Factorization on a 100 x 100 random matrix\n"
   ]
  },
  {
   "cell_type": "code",
   "execution_count": null,
   "metadata": {
    "tags": [
     "problem_6"
    ]
   },
   "outputs": [],
   "source": [
    "using Random\n",
    "N=100\n",
    "M=rand(N,N)\n",
    "#copy your algorithm below\n"
   ]
  },
  {
   "cell_type": "code",
   "execution_count": null,
   "metadata": {
    "tags": [
     "problem_6_selfcheck"
    ]
   },
   "outputs": [],
   "source": [
    "# Check your answer\n",
    "M-L*U\n",
    "norm(M-L*U) # We have not covered norms of matrices and vectors yet in lecture, but\n",
    "            # but you can think of it as a genralized notion of ``length''. \n",
    "            # Hence, the norm will be small when all of the entries of the matrix are small\n",
    "            # A 100 x 100 matrix has 10,000 entries...a bit much to inspect one by one! "
   ]
  }
 ],
 "metadata": {
  "celltoolbar": "Tags",
  "kernelspec": {
   "display_name": "Julia 1.7.1",
   "language": "julia",
   "name": "julia-1.7"
  },
  "language_info": {
   "file_extension": ".jl",
   "mimetype": "application/julia",
   "name": "julia",
   "version": "1.7.1"
  }
 },
 "nbformat": 4,
 "nbformat_minor": 4
}
